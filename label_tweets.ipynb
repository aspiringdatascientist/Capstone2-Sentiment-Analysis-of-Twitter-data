{
 "cells": [
  {
   "cell_type": "markdown",
   "metadata": {},
   "source": [
    "__Labeling Tweets__\n",
    "\n",
    "To build a target variable column, i,e., to label the sentiment of the given text, we will compare several sentiment analyzer tools which are widely available for classifying the data.Through the remaining sections, we’ll compare and discuss classification results using several well-known NLP libraries in Python. The methods described below fall under five broad categories as below:\n",
    "VADER, Textblob, SentiWordNet lexicon from NTLK, StanfordCoreNLP, Afinn\n",
    "The Positive, Negative and Neutral scores represent the proportion of text that falls in these categories which have been normalized between -1(most negative) and +1 (most positive). "
   ]
  },
  {
   "cell_type": "code",
   "execution_count": 1,
   "metadata": {},
   "outputs": [],
   "source": [
    "# import the necessary modules\n",
    "import numpy as np\n",
    "import pandas as pd"
   ]
  },
  {
   "cell_type": "code",
   "execution_count": 2,
   "metadata": {},
   "outputs": [],
   "source": [
    "# import the csv file as Pandas dataframe\n",
    "df = pd.read_csv(\"@tweets14.csv\")"
   ]
  },
  {
   "cell_type": "code",
   "execution_count": 3,
   "metadata": {},
   "outputs": [
    {
     "data": {
      "text/plain": [
       "(18367, 15)"
      ]
     },
     "execution_count": 3,
     "metadata": {},
     "output_type": "execute_result"
    }
   ],
   "source": [
    "# shape of DataFrame\n",
    "df.shape"
   ]
  },
  {
   "cell_type": "code",
   "execution_count": 5,
   "metadata": {},
   "outputs": [
    {
     "data": {
      "text/plain": [
       "(18366, 15)"
      ]
     },
     "execution_count": 5,
     "metadata": {},
     "output_type": "execute_result"
    }
   ],
   "source": [
    "# Drop All rows with missing values\n",
    "df = df.dropna()\n",
    "df.shape"
   ]
  },
  {
   "cell_type": "code",
   "execution_count": 6,
   "metadata": {},
   "outputs": [
    {
     "name": "stdout",
     "output_type": "stream",
     "text": [
      "0   2013-08-09 18:06:33\n",
      "1   2010-09-02 06:23:41\n",
      "2   2015-10-07 01:32:48\n",
      "3   2011-04-28 01:56:15\n",
      "4   2019-11-07 19:03:58\n",
      "Name: Date of Tweet, dtype: datetime64[ns]\n"
     ]
    }
   ],
   "source": [
    "# Convert the created_at column to np.datetime object\n",
    "df['Date of Tweet'] = pd.to_datetime(df['Date of Tweet'])\n",
    "\n",
    "# Print created_at to see new format\n",
    "print(df['Date of Tweet'].head())\n",
    "\n",
    "# Set the index of ds_tweets to created_at\n",
    "df.set_index('Date of Tweet', inplace = True)"
   ]
  },
  {
   "cell_type": "code",
   "execution_count": 8,
   "metadata": {},
   "outputs": [
    {
     "data": {
      "text/plain": [
       "'If anything the circus about the impeachment comes late that guy and his fascist minions have destroyed the USA thx to the ABBERANTLY RIDICULOUSLY STUPIDLY REDUNDANT OBSOLETE ELECTORAL COLLEGE and APATHY of millions of eligible voters that didnt vote in'"
      ]
     },
     "execution_count": 8,
     "metadata": {},
     "output_type": "execute_result"
    }
   ],
   "source": [
    "df['clean_text'] = df['clean_text'].astype(str)\n",
    "df['clean_text'].iloc[2]"
   ]
  },
  {
   "cell_type": "markdown",
   "metadata": {},
   "source": [
    "__1. SentiWordNet lexicon:__\n",
    "\n",
    "First let's label the tweets as either positive, negative or neutral using SentiWordNet lexicon. Words are associated with a sentiment score included between -1 and 1. Words are in the form lemma#PoS and are aligned with WordNet lists that include adjectives, nouns, verbs and adverbs."
   ]
  },
  {
   "cell_type": "code",
   "execution_count": 9,
   "metadata": {},
   "outputs": [],
   "source": [
    "from nltk import pos_tag, map_tag\n",
    "import time\n",
    "import nltk\n",
    "from nltk.corpus import sentiwordnet as swn\n",
    "from nltk.tag import pos_tag,map_tag\n",
    "from nltk.stem import WordNetLemmatizer\n",
    "from nltk.stem import PorterStemmer\n",
    "from nltk.corpus import stopwords\n",
    "from nltk import word_tokenize \n",
    "\n",
    "pstem = PorterStemmer()\n",
    "lem = WordNetLemmatizer()\n",
    "\n",
    "df_copy = df.copy()\n",
    "df_copy = df_copy.reset_index()\n",
    "def pos_senti(df_copy):#takes\n",
    "    li_swn=[]\n",
    "    li_swn_pos=[]\n",
    "    li_swn_neg=[]\n",
    "    missing_words=[]\n",
    "    for i in range(len(df_copy.index)):\n",
    "        text = df_copy.loc[i]['clean_text']\n",
    "        tokens = word_tokenize(str(text))\n",
    "        tagged_sent = pos_tag(tokens)\n",
    "        store_it = [(word, map_tag('en-ptb', 'universal', tag)) for word, tag in tagged_sent]\n",
    "        #print(\"Tagged Parts of Speech:\",store_it)\n",
    "\n",
    "        pos_total=0\n",
    "        neg_total=0\n",
    "        for word,tag in store_it:\n",
    "            if(tag=='NOUN'):\n",
    "                tag='n'\n",
    "            elif(tag=='VERB'):\n",
    "                tag='v'\n",
    "            elif(tag=='ADJ'):\n",
    "                tag='a'\n",
    "            elif(tag=='ADV'):\n",
    "                tag = 'r'\n",
    "            else:\n",
    "                tag='nothing'\n",
    "\n",
    "            if(tag!='nothing'):\n",
    "                concat = word+'.'+tag+'.01'\n",
    "                try:\n",
    "                    this_word_pos=swn.senti_synset(concat).pos_score()\n",
    "                    this_word_neg=swn.senti_synset(concat).neg_score()\n",
    "                    #print(word,tag,':',this_word_pos,this_word_neg)\n",
    "                except Exception as e:\n",
    "                    wor = lem.lemmatize(word)\n",
    "                    concat = wor+'.'+tag+'.01'\n",
    "                    # Checking if there's a possiblity of lemmatized word be accepted into SWN corpus\n",
    "                    try:\n",
    "                        this_word_pos=swn.senti_synset(concat).pos_score()\n",
    "                        this_word_neg=swn.senti_synset(concat).neg_score()\n",
    "                    except Exception as e:\n",
    "                        wor = pstem.stem(word)\n",
    "                        concat = wor+'.'+tag+'.01'\n",
    "                        # Checking if there's a possiblity of lemmatized word be accepted\n",
    "                        try:\n",
    "                            this_word_pos=swn.senti_synset(concat).pos_score()\n",
    "                            this_word_neg=swn.senti_synset(concat).neg_score()\n",
    "                        except:\n",
    "                            missing_words.append(word)\n",
    "                            continue\n",
    "                pos_total+=this_word_pos\n",
    "                neg_total+=this_word_neg\n",
    "        li_swn_pos.append(pos_total)\n",
    "        li_swn_neg.append(neg_total)\n",
    "\n",
    "        if(pos_total!=0 or neg_total!=0):\n",
    "            if(pos_total>neg_total):\n",
    "                li_swn.append(1)\n",
    "            else:\n",
    "                li_swn.append(-1)\n",
    "        else:\n",
    "            li_swn.append(0)\n",
    "    df_copy.insert(2,\"pos_score\",li_swn_pos,True)\n",
    "    df_copy.insert(3,\"neg_score\",li_swn_neg,True)\n",
    "    df_copy.insert(4,\"sent_score\",li_swn,True)\n",
    "    return df_copy\n",
    "    # end-of pos-tagging&sentiment\n",
    "df3 = pos_senti(df_copy)"
   ]
  },
  {
   "cell_type": "code",
   "execution_count": 10,
   "metadata": {},
   "outputs": [
    {
     "data": {
      "text/plain": [
       " 1    9000\n",
       "-1    6910\n",
       " 0    2456\n",
       "Name: sent_score, dtype: int64"
      ]
     },
     "execution_count": 10,
     "metadata": {},
     "output_type": "execute_result"
    }
   ],
   "source": [
    "#counts of unique positive, negative and neutral values\n",
    "df3.sent_score.value_counts()"
   ]
  },
  {
   "cell_type": "markdown",
   "metadata": {},
   "source": [
    "__2. AFINN:__\n",
    "\n",
    "AFINN is a manually labeled by Finn Årup Nielsen in 2009–2011 list of English words rated for valence with an integer between minus five (negative) and plus five (positive) [5]"
   ]
  },
  {
   "cell_type": "code",
   "execution_count": 11,
   "metadata": {},
   "outputs": [
    {
     "name": "stdout",
     "output_type": "stream",
     "text": [
      "Total tweets: 18366\n",
      "Total tweets with sentiment: 18366\n",
      "positive tweets: 7387\n",
      "negative tweets: 4514\n",
      "neutral tweets: 6465\n"
     ]
    }
   ],
   "source": [
    "# Afinn sentiment LABELING\n",
    "from afinn import Afinn\n",
    "af = Afinn()\n",
    "count_total=0\n",
    "count_pos=0\n",
    "count_neut=0\n",
    "\n",
    "count_neg=0\n",
    "li_af = []\n",
    "for i in range(len(df_copy.index)):\n",
    "    sent = str(df_copy.loc[i]['clean_text'])\n",
    "    if(af.score(sent)>0):\n",
    "        count_pos=count_pos+1\n",
    "        count_total=count_total+1\n",
    "        li_af.append(1)\n",
    "    elif(af.score(sent)<0):\n",
    "        count_neg=count_neg+1\n",
    "        count_total=count_total+1\n",
    "        li_af.append(-1)\n",
    "    else:\n",
    "        li_af.append(0)\n",
    "        count_total=count_total+1\n",
    "        count_neut+=1\n",
    "\n",
    "\n",
    "\n",
    "\n",
    "print(\"Total tweets:\",len(df_copy.index))\n",
    "print(\"Total tweets with sentiment:\",count_total)\n",
    "print(\"positive tweets:\",count_pos)\n",
    "print(\"negative tweets:\",count_neg)\n",
    "print(\"neutral tweets:\",count_neut)"
   ]
  },
  {
   "cell_type": "markdown",
   "metadata": {},
   "source": [
    "__3. TextBlob:__\n",
    "\n",
    "TextBlob is a popular Python library for processing textual data. It is built on top of NLTK, another popular Natural Language Processing toolbox for Python. TextBlob uses a sentiment lexicon (consisting of predefined words) to assign scores for each word, which are then averaged out using a weighted average to give an overall sentence sentiment score. Three scores: “polarity”, “subjectivity” and “intensity” are calculated for each word."
   ]
  },
  {
   "cell_type": "code",
   "execution_count": 12,
   "metadata": {},
   "outputs": [
    {
     "name": "stdout",
     "output_type": "stream",
     "text": [
      "Total tweets: 18366\n",
      "Total tweets with sentiment: 18366\n",
      "positive tweets: 7682\n",
      "negative tweets: 3067\n",
      "neutral tweets: 7617\n"
     ]
    }
   ],
   "source": [
    "#TextBlob SENTIMENT LABELING\n",
    "from textblob import TextBlob\n",
    "count_total=0\n",
    "count_pos=0\n",
    "count_neg=0\n",
    "count_neut=0\n",
    "\n",
    "li_tb = []\n",
    "for i in range(len(df_copy.index)):\n",
    "    sent = TextBlob(str(df_copy.loc[i][\"clean_text\"]))\n",
    "    if(sent.sentiment.polarity>0):\n",
    "        count_pos=count_pos+1\n",
    "        count_total=count_total+1\n",
    "        li_tb.append(1)\n",
    "    elif(sent.sentiment.polarity<0):\n",
    "        count_neg=count_neg+1\n",
    "        count_total=count_total+1\n",
    "        li_tb.append(-1)\n",
    "    else:\n",
    "        li_tb.append(0)\n",
    "        count_neut+=1\n",
    "\n",
    "        count_total=count_total+1\n",
    "\n",
    "\n",
    "print(\"Total tweets:\",len(df_copy.index))\n",
    "print(\"Total tweets with sentiment:\",count_total)\n",
    "print(\"positive tweets:\",count_pos)\n",
    "print(\"negative tweets:\",count_neg)\n",
    "print(\"neutral tweets:\",count_neut)"
   ]
  },
  {
   "cell_type": "markdown",
   "metadata": {},
   "source": [
    "__4. VADER:__\n",
    "\n",
    "VADER (Valence Aware Dictionary and sentiment Reasoner) is a lexicon and rule-based sentiment analysis tool that is specifically attuned to sentiments expressed in social media.Once VADER is installed SentimentIntensityAnalyser object will be called to classify texts as below:"
   ]
  },
  {
   "cell_type": "code",
   "execution_count": 13,
   "metadata": {},
   "outputs": [],
   "source": [
    "# Load SentimentIntensityAnalyzer\n",
    "from nltk.sentiment.vader import SentimentIntensityAnalyzer\n",
    "\n",
    "# Convert the created_at column to np.datetime object\n",
    "df6 = df.copy()\n",
    "\n",
    "# Instantiate new SentimentIntensityAnalyzer\n",
    "sid = SentimentIntensityAnalyzer()\n",
    "\n",
    "# Generate sentiment scores\n",
    "sentiment_scores = df6['clean_text'].apply(sid.polarity_scores)"
   ]
  },
  {
   "cell_type": "code",
   "execution_count": 14,
   "metadata": {},
   "outputs": [],
   "source": [
    "df6[\"score\"] = sentiment_scores.apply(lambda x: x['compound'])"
   ]
  },
  {
   "cell_type": "code",
   "execution_count": 15,
   "metadata": {},
   "outputs": [
    {
     "name": "stdout",
     "output_type": "stream",
     "text": [
      "positive tweets: 8072\n",
      "negative tweets: 4995\n",
      "neutral tweets: 5299\n"
     ]
    }
   ],
   "source": [
    "# Load SentimentIntensityAnalyzer\n",
    "from nltk.sentiment.vader import SentimentIntensityAnalyzer\n",
    "\n",
    "count_total=0\n",
    "count_pos=0\n",
    "count_neg=0\n",
    "count_neut=0\n",
    "\n",
    "\n",
    "for i in df6[\"score\"]:\n",
    "    if i >0:\n",
    "        count_pos=count_pos+1\n",
    "    elif i <0:\n",
    "        count_neg = count_neg +1\n",
    "    else:\n",
    "        count_neut = count_neut +1\n",
    "        \n",
    " \n",
    "\n",
    "print(\"positive tweets:\",count_pos)\n",
    "print(\"negative tweets:\",count_neg)\n",
    "print(\"neutral tweets:\",count_neut)\n",
    "conditions = [\n",
    "    (df6['score'] >0),\n",
    "    (df6['score'] <0),\n",
    "    (df6['score'] == 0)]\n",
    "choices = [1,-1,0]\n",
    "df6['sentiment'] = np.select(conditions, choices )\n"
   ]
  },
  {
   "cell_type": "code",
   "execution_count": 16,
   "metadata": {},
   "outputs": [
    {
     "data": {
      "text/html": [
       "<div>\n",
       "<style scoped>\n",
       "    .dataframe tbody tr th:only-of-type {\n",
       "        vertical-align: middle;\n",
       "    }\n",
       "\n",
       "    .dataframe tbody tr th {\n",
       "        vertical-align: top;\n",
       "    }\n",
       "\n",
       "    .dataframe thead th {\n",
       "        text-align: right;\n",
       "    }\n",
       "</style>\n",
       "<table border=\"1\" class=\"dataframe\">\n",
       "  <thead>\n",
       "    <tr style=\"text-align: right;\">\n",
       "      <th></th>\n",
       "      <th>User_Id</th>\n",
       "      <th>Total Tweets</th>\n",
       "      <th>Favourites_Count</th>\n",
       "      <th>Followers</th>\n",
       "      <th>User_Verified</th>\n",
       "      <th>User Location</th>\n",
       "      <th>Tweet Id</th>\n",
       "      <th>Tweet Text</th>\n",
       "      <th>Tweet Source</th>\n",
       "      <th>Tweet Retweet</th>\n",
       "      <th>full_text</th>\n",
       "      <th>year</th>\n",
       "      <th>hashtags</th>\n",
       "      <th>clean_text</th>\n",
       "      <th>score</th>\n",
       "      <th>sentiment</th>\n",
       "    </tr>\n",
       "    <tr>\n",
       "      <th>Date of Tweet</th>\n",
       "      <th></th>\n",
       "      <th></th>\n",
       "      <th></th>\n",
       "      <th></th>\n",
       "      <th></th>\n",
       "      <th></th>\n",
       "      <th></th>\n",
       "      <th></th>\n",
       "      <th></th>\n",
       "      <th></th>\n",
       "      <th></th>\n",
       "      <th></th>\n",
       "      <th></th>\n",
       "      <th></th>\n",
       "      <th></th>\n",
       "      <th></th>\n",
       "    </tr>\n",
       "  </thead>\n",
       "  <tbody>\n",
       "    <tr>\n",
       "      <th>2013-08-09 18:06:33</th>\n",
       "      <td>'1658338609'</td>\n",
       "      <td>'313'</td>\n",
       "      <td>'657'</td>\n",
       "      <td>'80'</td>\n",
       "      <td>'False'</td>\n",
       "      <td>''</td>\n",
       "      <td>'1194457803089276928'</td>\n",
       "      <td>'RT @MrDuganDVOLP: Worked with Lila and Nate t...</td>\n",
       "      <td>Twitter for Android</td>\n",
       "      <td>'2'</td>\n",
       "      <td>@MrDuganDVOLP: Worked with Lila and Nate today...</td>\n",
       "      <td>2013</td>\n",
       "      <td>[]</td>\n",
       "      <td>Worked with Lila and Nate today at BGHS Online...</td>\n",
       "      <td>0.6249</td>\n",
       "      <td>1</td>\n",
       "    </tr>\n",
       "    <tr>\n",
       "      <th>2010-09-02 06:23:41</th>\n",
       "      <td>'185949950'</td>\n",
       "      <td>'10396'</td>\n",
       "      <td>'11498'</td>\n",
       "      <td>'271'</td>\n",
       "      <td>'False'</td>\n",
       "      <td>''</td>\n",
       "      <td>'1194457753256775686'</td>\n",
       "      <td>'@verrierf @TMZ We did vote, if you recall Hil...</td>\n",
       "      <td>Twitter for iPhone</td>\n",
       "      <td>'0'</td>\n",
       "      <td>@verrierf @TMZ We did vote, if you recall Hill...</td>\n",
       "      <td>2010</td>\n",
       "      <td>[]</td>\n",
       "      <td>We did vote if you recall Hillary won the popu...</td>\n",
       "      <td>0.7579</td>\n",
       "      <td>1</td>\n",
       "    </tr>\n",
       "    <tr>\n",
       "      <th>2015-10-07 01:32:48</th>\n",
       "      <td>'3809154554'</td>\n",
       "      <td>'10916'</td>\n",
       "      <td>'11841'</td>\n",
       "      <td>'2101'</td>\n",
       "      <td>'False'</td>\n",
       "      <td>'Burbank, CA'</td>\n",
       "      <td>'1194457695308222464'</td>\n",
       "      <td>'@MaddowBlog @MSNBC If anything the circus abo...</td>\n",
       "      <td>Twitter for Android</td>\n",
       "      <td>'0'</td>\n",
       "      <td>@MaddowBlog @MSNBC If anything the circus abou...</td>\n",
       "      <td>2015</td>\n",
       "      <td>[]</td>\n",
       "      <td>If anything the circus about the impeachment c...</td>\n",
       "      <td>-0.9519</td>\n",
       "      <td>-1</td>\n",
       "    </tr>\n",
       "    <tr>\n",
       "      <th>2011-04-28 01:56:15</th>\n",
       "      <td>'289118612'</td>\n",
       "      <td>'2200777'</td>\n",
       "      <td>'19420'</td>\n",
       "      <td>'65108'</td>\n",
       "      <td>'False'</td>\n",
       "      <td>'Atlanta, GA'</td>\n",
       "      <td>'1194457679592341507'</td>\n",
       "      <td>'The Democratic nominee against Trump could be...</td>\n",
       "      <td>Media Studio</td>\n",
       "      <td>'0'</td>\n",
       "      <td>The Democratic nominee against Trump could bea...</td>\n",
       "      <td>2011</td>\n",
       "      <td>[]</td>\n",
       "      <td>The Democratic nominee against Trump could bea...</td>\n",
       "      <td>-0.4019</td>\n",
       "      <td>-1</td>\n",
       "    </tr>\n",
       "    <tr>\n",
       "      <th>2019-11-07 19:03:58</th>\n",
       "      <td>'1192518029684461570'</td>\n",
       "      <td>'9'</td>\n",
       "      <td>'0'</td>\n",
       "      <td>'1'</td>\n",
       "      <td>'False'</td>\n",
       "      <td>'United States'</td>\n",
       "      <td>'1194457622914707457'</td>\n",
       "      <td>'We\\xe2\\x80\\x99re still skewed by population b...</td>\n",
       "      <td>Twitter for iPhone</td>\n",
       "      <td>'0'</td>\n",
       "      <td>Were still skewed by population but not quite ...</td>\n",
       "      <td>2019</td>\n",
       "      <td>['#ElectionResults2019', '#ElectionResults2019...</td>\n",
       "      <td>Were still skewed by population but not quite ...</td>\n",
       "      <td>0.0000</td>\n",
       "      <td>0</td>\n",
       "    </tr>\n",
       "  </tbody>\n",
       "</table>\n",
       "</div>"
      ],
      "text/plain": [
       "                                   User_Id Total Tweets Favourites_Count  \\\n",
       "Date of Tweet                                                              \n",
       "2013-08-09 18:06:33           '1658338609'        '313'            '657'   \n",
       "2010-09-02 06:23:41            '185949950'      '10396'          '11498'   \n",
       "2015-10-07 01:32:48           '3809154554'      '10916'          '11841'   \n",
       "2011-04-28 01:56:15            '289118612'    '2200777'          '19420'   \n",
       "2019-11-07 19:03:58  '1192518029684461570'          '9'              '0'   \n",
       "\n",
       "                    Followers User_Verified    User Location  \\\n",
       "Date of Tweet                                                  \n",
       "2013-08-09 18:06:33      '80'       'False'               ''   \n",
       "2010-09-02 06:23:41     '271'       'False'               ''   \n",
       "2015-10-07 01:32:48    '2101'       'False'    'Burbank, CA'   \n",
       "2011-04-28 01:56:15   '65108'       'False'    'Atlanta, GA'   \n",
       "2019-11-07 19:03:58       '1'       'False'  'United States'   \n",
       "\n",
       "                                  Tweet Id  \\\n",
       "Date of Tweet                                \n",
       "2013-08-09 18:06:33  '1194457803089276928'   \n",
       "2010-09-02 06:23:41  '1194457753256775686'   \n",
       "2015-10-07 01:32:48  '1194457695308222464'   \n",
       "2011-04-28 01:56:15  '1194457679592341507'   \n",
       "2019-11-07 19:03:58  '1194457622914707457'   \n",
       "\n",
       "                                                            Tweet Text  \\\n",
       "Date of Tweet                                                            \n",
       "2013-08-09 18:06:33  'RT @MrDuganDVOLP: Worked with Lila and Nate t...   \n",
       "2010-09-02 06:23:41  '@verrierf @TMZ We did vote, if you recall Hil...   \n",
       "2015-10-07 01:32:48  '@MaddowBlog @MSNBC If anything the circus abo...   \n",
       "2011-04-28 01:56:15  'The Democratic nominee against Trump could be...   \n",
       "2019-11-07 19:03:58  'We\\xe2\\x80\\x99re still skewed by population b...   \n",
       "\n",
       "                            Tweet Source Tweet Retweet  \\\n",
       "Date of Tweet                                            \n",
       "2013-08-09 18:06:33  Twitter for Android           '2'   \n",
       "2010-09-02 06:23:41   Twitter for iPhone           '0'   \n",
       "2015-10-07 01:32:48  Twitter for Android           '0'   \n",
       "2011-04-28 01:56:15         Media Studio           '0'   \n",
       "2019-11-07 19:03:58   Twitter for iPhone           '0'   \n",
       "\n",
       "                                                             full_text  year  \\\n",
       "Date of Tweet                                                                  \n",
       "2013-08-09 18:06:33  @MrDuganDVOLP: Worked with Lila and Nate today...  2013   \n",
       "2010-09-02 06:23:41  @verrierf @TMZ We did vote, if you recall Hill...  2010   \n",
       "2015-10-07 01:32:48  @MaddowBlog @MSNBC If anything the circus abou...  2015   \n",
       "2011-04-28 01:56:15  The Democratic nominee against Trump could bea...  2011   \n",
       "2019-11-07 19:03:58  Were still skewed by population but not quite ...  2019   \n",
       "\n",
       "                                                              hashtags  \\\n",
       "Date of Tweet                                                            \n",
       "2013-08-09 18:06:33                                                 []   \n",
       "2010-09-02 06:23:41                                                 []   \n",
       "2015-10-07 01:32:48                                                 []   \n",
       "2011-04-28 01:56:15                                                 []   \n",
       "2019-11-07 19:03:58  ['#ElectionResults2019', '#ElectionResults2019...   \n",
       "\n",
       "                                                            clean_text  \\\n",
       "Date of Tweet                                                            \n",
       "2013-08-09 18:06:33  Worked with Lila and Nate today at BGHS Online...   \n",
       "2010-09-02 06:23:41  We did vote if you recall Hillary won the popu...   \n",
       "2015-10-07 01:32:48  If anything the circus about the impeachment c...   \n",
       "2011-04-28 01:56:15  The Democratic nominee against Trump could bea...   \n",
       "2019-11-07 19:03:58  Were still skewed by population but not quite ...   \n",
       "\n",
       "                      score  sentiment  \n",
       "Date of Tweet                           \n",
       "2013-08-09 18:06:33  0.6249          1  \n",
       "2010-09-02 06:23:41  0.7579          1  \n",
       "2015-10-07 01:32:48 -0.9519         -1  \n",
       "2011-04-28 01:56:15 -0.4019         -1  \n",
       "2019-11-07 19:03:58  0.0000          0  "
      ]
     },
     "execution_count": 16,
     "metadata": {},
     "output_type": "execute_result"
    }
   ],
   "source": [
    "# print few rows\n",
    "\n",
    "df6.head()"
   ]
  },
  {
   "cell_type": "markdown",
   "metadata": {},
   "source": [
    "__5. StanfordCoreNLP:__\n",
    "    \n",
    "StanfordCoreNLP builds on grammatical structures."
   ]
  },
  {
   "cell_type": "code",
   "execution_count": 19,
   "metadata": {},
   "outputs": [],
   "source": [
    "from pycorenlp import StanfordCoreNLP\n",
    "nlp = StanfordCoreNLP('http://localhost:9000')\n",
    "\n",
    "df8 = df.copy()\n",
    "def get_sentiment(text):\n",
    "    res = nlp.annotate(text,\n",
    "                       properties={'annotators': 'sentiment,tokenize,ssplit',\n",
    "                                   'outputFormat': 'json',\n",
    "                                   'timeout': 1000,\n",
    "                       })\n",
    "    return res['sentences'][0]['sentiment']\n",
    "\n"
   ]
  },
  {
   "cell_type": "code",
   "execution_count": 20,
   "metadata": {},
   "outputs": [
    {
     "data": {
      "text/plain": [
       "'Negative'"
      ]
     },
     "execution_count": 20,
     "metadata": {},
     "output_type": "execute_result"
    }
   ],
   "source": [
    "text_amb = \"We did vote if you recall Hillary won the popular vote by over million votes\"\n",
    "get_sentiment(text_amb)"
   ]
  },
  {
   "cell_type": "raw",
   "metadata": {},
   "source": [
    "# Generate sentiment scores\n",
    "sentiment_scores = df8['clean_text'].apply(get_sentiment)\n",
    "df8[\"score\"] = sentiment_scores.apply(lambda x: x['compound'])"
   ]
  },
  {
   "cell_type": "code",
   "execution_count": 21,
   "metadata": {},
   "outputs": [],
   "source": [
    "df8[\"sentiment\"] =df8['clean_text'].map(get_sentiment)"
   ]
  },
  {
   "cell_type": "code",
   "execution_count": 22,
   "metadata": {},
   "outputs": [
    {
     "data": {
      "text/html": [
       "<div>\n",
       "<style scoped>\n",
       "    .dataframe tbody tr th:only-of-type {\n",
       "        vertical-align: middle;\n",
       "    }\n",
       "\n",
       "    .dataframe tbody tr th {\n",
       "        vertical-align: top;\n",
       "    }\n",
       "\n",
       "    .dataframe thead th {\n",
       "        text-align: right;\n",
       "    }\n",
       "</style>\n",
       "<table border=\"1\" class=\"dataframe\">\n",
       "  <thead>\n",
       "    <tr style=\"text-align: right;\">\n",
       "      <th></th>\n",
       "      <th>year</th>\n",
       "      <th>clean_text</th>\n",
       "      <th>sentiment</th>\n",
       "    </tr>\n",
       "    <tr>\n",
       "      <th>Date of Tweet</th>\n",
       "      <th></th>\n",
       "      <th></th>\n",
       "      <th></th>\n",
       "    </tr>\n",
       "  </thead>\n",
       "  <tbody>\n",
       "    <tr>\n",
       "      <th>2010-09-02 06:23:41</th>\n",
       "      <td>2010</td>\n",
       "      <td>We did vote if you recall Hillary won the popular vote by over million votes</td>\n",
       "      <td>Negative</td>\n",
       "    </tr>\n",
       "    <tr>\n",
       "      <th>2015-10-07 01:32:48</th>\n",
       "      <td>2015</td>\n",
       "      <td>If anything the circus about the impeachment comes late that guy and his fascist minions have destroyed the USA thx to the ABBERANTLY RIDICULOUSLY STUPIDLY REDUNDANT OBSOLETE ELECTORAL COLLEGE and APATHY of millions of eligible voters that didnt vote in</td>\n",
       "      <td>Negative</td>\n",
       "    </tr>\n",
       "    <tr>\n",
       "      <th>2011-04-28 01:56:15</th>\n",
       "      <td>2011</td>\n",
       "      <td>The Democratic nominee against Trump could beat him by far more votes than Hillary Clinton did in and still lose</td>\n",
       "      <td>Negative</td>\n",
       "    </tr>\n",
       "    <tr>\n",
       "      <th>2019-11-07 19:03:58</th>\n",
       "      <td>2019</td>\n",
       "      <td>Were still skewed by population but not quite near as much TGI Electoral College #ElectionResults #ElectionResults #ElectoralCollege #Election #YangGang #FeelTheBern #TrumpTrain</td>\n",
       "      <td>Neutral</td>\n",
       "    </tr>\n",
       "  </tbody>\n",
       "</table>\n",
       "</div>"
      ],
      "text/plain": [
       "                     year  \\\n",
       "Date of Tweet               \n",
       "2010-09-02 06:23:41  2010   \n",
       "2015-10-07 01:32:48  2015   \n",
       "2011-04-28 01:56:15  2011   \n",
       "2019-11-07 19:03:58  2019   \n",
       "\n",
       "                                                                                                                                                                                                                                                                        clean_text  \\\n",
       "Date of Tweet                                                                                                                                                                                                                                                                        \n",
       "2010-09-02 06:23:41  We did vote if you recall Hillary won the popular vote by over million votes                                                                                                                                                                                    \n",
       "2015-10-07 01:32:48  If anything the circus about the impeachment comes late that guy and his fascist minions have destroyed the USA thx to the ABBERANTLY RIDICULOUSLY STUPIDLY REDUNDANT OBSOLETE ELECTORAL COLLEGE and APATHY of millions of eligible voters that didnt vote in   \n",
       "2011-04-28 01:56:15  The Democratic nominee against Trump could beat him by far more votes than Hillary Clinton did in and still lose                                                                                                                                                \n",
       "2019-11-07 19:03:58  Were still skewed by population but not quite near as much TGI Electoral College #ElectionResults #ElectionResults #ElectoralCollege #Election #YangGang #FeelTheBern #TrumpTrain                                                                               \n",
       "\n",
       "                    sentiment  \n",
       "Date of Tweet                  \n",
       "2010-09-02 06:23:41  Negative  \n",
       "2015-10-07 01:32:48  Negative  \n",
       "2011-04-28 01:56:15  Negative  \n",
       "2019-11-07 19:03:58  Neutral   "
      ]
     },
     "execution_count": 22,
     "metadata": {},
     "output_type": "execute_result"
    }
   ],
   "source": [
    "pd.set_option('display.max_colwidth', -1)\n",
    "df8[['year', 'clean_text','sentiment']][1:5]"
   ]
  },
  {
   "cell_type": "code",
   "execution_count": 23,
   "metadata": {},
   "outputs": [
    {
     "data": {
      "text/plain": [
       "Negative        9985\n",
       "Neutral         6591\n",
       "Positive        1756\n",
       "Verynegative    28  \n",
       "Verypositive    6   \n",
       "Name: sentiment, dtype: int64"
      ]
     },
     "execution_count": 23,
     "metadata": {},
     "output_type": "execute_result"
    }
   ],
   "source": [
    "df8.sentiment.value_counts( )"
   ]
  },
  {
   "cell_type": "code",
   "execution_count": 24,
   "metadata": {},
   "outputs": [
    {
     "data": {
      "text/plain": [
       "'We did vote if you recall Hillary won the popular vote by over million votes'"
      ]
     },
     "execution_count": 24,
     "metadata": {},
     "output_type": "execute_result"
    }
   ],
   "source": [
    "df8[\"clean_text\"].iloc[1]"
   ]
  },
  {
   "cell_type": "code",
   "execution_count": 25,
   "metadata": {},
   "outputs": [
    {
     "data": {
      "text/plain": [
       "User_Id             object\n",
       "Total Tweets        object\n",
       "Favourites_Count    object\n",
       "Followers           object\n",
       "User_Verified       object\n",
       "User Location       object\n",
       "Tweet Id            object\n",
       "Tweet Text          object\n",
       "Tweet Source        object\n",
       "Tweet Retweet       object\n",
       "full_text           object\n",
       "year                int64 \n",
       "hashtags            object\n",
       "clean_text          object\n",
       "dtype: object"
      ]
     },
     "execution_count": 25,
     "metadata": {},
     "output_type": "execute_result"
    }
   ],
   "source": [
    "df.dtypes"
   ]
  },
  {
   "cell_type": "code",
   "execution_count": 26,
   "metadata": {},
   "outputs": [],
   "source": [
    "conditions = [\n",
    "    (df8['sentiment'] == 'Negative'),\n",
    "    (df8['sentiment'] == 'Verynegative'),\n",
    "    (df8['sentiment']== \"Positive\"),\n",
    "    (df8['sentiment'] == \"Verypositive\" ),\n",
    "    (df8['sentiment']== \"Neutral\")\n",
    "]\n",
    "\n",
    "choices = [-1,-1,1,1,0]\n",
    "df8['sentiment_val'] = np.select(conditions, choices )\n"
   ]
  },
  {
   "cell_type": "markdown",
   "metadata": {},
   "source": [
    "Now, let's compare all the sentiment analyzer tools:"
   ]
  },
  {
   "cell_type": "code",
   "execution_count": 39,
   "metadata": {},
   "outputs": [
    {
     "name": "stdout",
     "output_type": "stream",
     "text": [
      "StanfordCoreNLP:\n",
      "clean_text       We did vote if you recall Hillary won the popular vote by over million votes\n",
      "sentiment_val    -1                                                                          \n",
      "sentiment        Negative                                                                    \n",
      "Name: 2010-09-02 06:23:41, dtype: object\n"
     ]
    }
   ],
   "source": [
    "print(\"StanfordCoreNLP:\")\n",
    "print(df8[[\"clean_text\",\"sentiment_val\" ,\"sentiment\"]].iloc[1])"
   ]
  },
  {
   "cell_type": "code",
   "execution_count": 41,
   "metadata": {},
   "outputs": [
    {
     "name": "stdout",
     "output_type": "stream",
     "text": [
      "Vader:\n",
      "clean_text    We did vote if you recall Hillary won the popular vote by over million votes\n",
      "sentiment     1                                                                           \n",
      "Name: 2010-09-02 06:23:41, dtype: object\n"
     ]
    }
   ],
   "source": [
    "print(\"Vader:\")\n",
    "print(df6[[\"clean_text\",\"sentiment\"]].iloc[1])"
   ]
  },
  {
   "cell_type": "code",
   "execution_count": 43,
   "metadata": {},
   "outputs": [
    {
     "name": "stdout",
     "output_type": "stream",
     "text": [
      "SentiWordNet lexicon:\n",
      "clean_text    We did vote if you recall Hillary won the popular vote by over million votes\n",
      "score         0.7579                                                                      \n",
      "sentiment     1                                                                           \n",
      "Name: 2010-09-02 06:23:41, dtype: object\n"
     ]
    }
   ],
   "source": [
    "print(\"SentiWordNet lexicon:\")\n",
    "print(df6[[\"clean_text\",\"score\" ,\"sentiment\"]].iloc[1])"
   ]
  },
  {
   "cell_type": "code",
   "execution_count": 32,
   "metadata": {},
   "outputs": [
    {
     "name": "stdout",
     "output_type": "stream",
     "text": [
      "TextBlob:\n",
      "Date of Tweet       2010-09-02 06:23:41                                                                                                       \n",
      "User_Id             '185949950'                                                                                                               \n",
      "pos_score           0.375                                                                                                                     \n",
      "neg_score           0                                                                                                                         \n",
      "sent_score          1                                                                                                                         \n",
      "Total Tweets        '10396'                                                                                                                   \n",
      "Favourites_Count    '11498'                                                                                                                   \n",
      "Followers           '271'                                                                                                                     \n",
      "User_Verified       'False'                                                                                                                   \n",
      "User Location       ''                                                                                                                        \n",
      "Tweet Id            '1194457753256775686'                                                                                                     \n",
      "Tweet Text          '@verrierf @TMZ We did vote, if you recall Hillary won the popular vote by over 3 million votes.  https://t.co/n7UDt1FuYz'\n",
      "Tweet Source        Twitter for iPhone                                                                                                        \n",
      "Tweet Retweet       '0'                                                                                                                       \n",
      "full_text           @verrierf @TMZ We did vote, if you recall Hillary won the popular vote by over 3 million votes. https://t.co/n7UDt1FuYz   \n",
      "year                2010                                                                                                                      \n",
      "hashtags            []                                                                                                                        \n",
      "clean_text          We did vote if you recall Hillary won the popular vote by over million votes                                              \n",
      "Name: 1, dtype: object\n"
     ]
    }
   ],
   "source": [
    "print(\"TextBlob:\")\n",
    "print(df_copy[[\"clean_text\",\"sentiment_val\" ,\"sentiment\"]].iloc[1])"
   ]
  },
  {
   "cell_type": "code",
   "execution_count": 33,
   "metadata": {},
   "outputs": [
    {
     "name": "stdout",
     "output_type": "stream",
     "text": [
      "Afinn:\n",
      "Date of Tweet       2010-09-02 06:23:41                                                                                                       \n",
      "User_Id             '185949950'                                                                                                               \n",
      "pos_score           0.375                                                                                                                     \n",
      "neg_score           0                                                                                                                         \n",
      "sent_score          1                                                                                                                         \n",
      "Total Tweets        '10396'                                                                                                                   \n",
      "Favourites_Count    '11498'                                                                                                                   \n",
      "Followers           '271'                                                                                                                     \n",
      "User_Verified       'False'                                                                                                                   \n",
      "User Location       ''                                                                                                                        \n",
      "Tweet Id            '1194457753256775686'                                                                                                     \n",
      "Tweet Text          '@verrierf @TMZ We did vote, if you recall Hillary won the popular vote by over 3 million votes.  https://t.co/n7UDt1FuYz'\n",
      "Tweet Source        Twitter for iPhone                                                                                                        \n",
      "Tweet Retweet       '0'                                                                                                                       \n",
      "full_text           @verrierf @TMZ We did vote, if you recall Hillary won the popular vote by over 3 million votes. https://t.co/n7UDt1FuYz   \n",
      "year                2010                                                                                                                      \n",
      "hashtags            []                                                                                                                        \n",
      "clean_text          We did vote if you recall Hillary won the popular vote by over million votes                                              \n",
      "Name: 1, dtype: object\n"
     ]
    }
   ],
   "source": [
    "print(\"Afinn:\")\n",
    "print(df3.iloc[1])"
   ]
  },
  {
   "cell_type": "code",
   "execution_count": 35,
   "metadata": {},
   "outputs": [],
   "source": [
    "#df8.to_csv(\"@tweets_final1.csv\")"
   ]
  },
  {
   "cell_type": "markdown",
   "metadata": {},
   "source": [
    "__Conclusion:__\n",
    "\n",
    "As we can see, all the other analyzers classified tweet \"We did vote if you recall Hillary won the popular vote by over million votes\"  as positive whereas StanfordCoreNLP classified it as negative which is right with respect to \"electoral college\".  StanfordCoreNLP will be used to label our tweets dataset since it is designed to help evaluate a model’s ability to understand representations of sentence structure, rather than just looking at individual words in isolation."
   ]
  },
  {
   "cell_type": "code",
   "execution_count": null,
   "metadata": {},
   "outputs": [],
   "source": []
  },
  {
   "cell_type": "code",
   "execution_count": null,
   "metadata": {},
   "outputs": [],
   "source": []
  }
 ],
 "metadata": {
  "kernelspec": {
   "display_name": "Python 3",
   "language": "python",
   "name": "python3"
  },
  "language_info": {
   "codemirror_mode": {
    "name": "ipython",
    "version": 3
   },
   "file_extension": ".py",
   "mimetype": "text/x-python",
   "name": "python",
   "nbconvert_exporter": "python",
   "pygments_lexer": "ipython3",
   "version": "3.7.3"
  }
 },
 "nbformat": 4,
 "nbformat_minor": 2
}
